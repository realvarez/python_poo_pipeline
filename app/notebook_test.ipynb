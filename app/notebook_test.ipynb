{
 "cells": [
  {
   "cell_type": "code",
   "execution_count": 1,
   "metadata": {
    "collapsed": true,
    "ExecuteTime": {
     "start_time": "2023-09-11T19:16:51.633737Z",
     "end_time": "2023-09-11T19:16:52.870008Z"
    }
   },
   "outputs": [
    {
     "name": "stderr",
     "output_type": "stream",
     "text": [
      "2023-09-11 19:16:52,667 INFO:Initiating charge of environment variables\n",
      "2023-09-11 19:16:52,753 INFO:Created postgres engine\n"
     ]
    }
   ],
   "source": [
    "import logging\n",
    "import re\n",
    "from datetime import date\n",
    "import pandas as pd\n",
    "from app.infra import EnvConfig\n",
    "from app.source import DataExtractor\n",
    "from app.infra import PGGateway\n",
    "today_date = date.today()\n",
    "logging.basicConfig(\n",
    "    filename=None,#f\"pipeline{today_date}.log\",\n",
    "    format=\"%(asctime)s %(levelname)s:%(message)s\",\n",
    "    level=logging.INFO\n",
    ")\n",
    "EnvConfig()\n",
    "con = PGGateway.engine_connection.connect().execution_options(stream_results=True)"
   ]
  },
  {
   "cell_type": "code",
   "execution_count": 2,
   "outputs": [
    {
     "ename": "TypeError",
     "evalue": "PGGateway.pd_insert_sql() missing 1 required positional argument: 'table'",
     "output_type": "error",
     "traceback": [
      "\u001B[0;31m---------------------------------------------------------------------------\u001B[0m",
      "\u001B[0;31mTypeError\u001B[0m                                 Traceback (most recent call last)",
      "Cell \u001B[0;32mIn[2], line 4\u001B[0m\n\u001B[1;32m      2\u001B[0m \u001B[38;5;28;01mfrom\u001B[39;00m \u001B[38;5;21;01mapp\u001B[39;00m\u001B[38;5;21;01m.\u001B[39;00m\u001B[38;5;21;01mutils\u001B[39;00m \u001B[38;5;28;01mimport\u001B[39;00m Constants\n\u001B[1;32m      3\u001B[0m \u001B[38;5;28;01mfor\u001B[39;00m chunk \u001B[38;5;129;01min\u001B[39;00m pd\u001B[38;5;241m.\u001B[39mread_sql(\u001B[38;5;124m'\u001B[39m\u001B[38;5;124mraw_data\u001B[39m\u001B[38;5;124m'\u001B[39m, con\u001B[38;5;241m=\u001B[39mcon, chunksize\u001B[38;5;241m=\u001B[39m\u001B[38;5;241m100\u001B[39m):\n\u001B[0;32m----> 4\u001B[0m     \u001B[43mPGGateway\u001B[49m\u001B[38;5;241;43m.\u001B[39;49m\u001B[43mpd_insert_sql\u001B[49m\u001B[43m(\u001B[49m\n\u001B[1;32m      5\u001B[0m \u001B[43m        \u001B[49m\u001B[43mdf\u001B[49m\u001B[38;5;241;43m=\u001B[39;49m\u001B[43mDataProcess\u001B[49m\u001B[38;5;241;43m.\u001B[39;49m\u001B[43mapply_cleaning\u001B[49m\u001B[43m(\u001B[49m\u001B[43mchunk\u001B[49m\u001B[43m)\u001B[49m\u001B[43m,\u001B[49m\n\u001B[1;32m      6\u001B[0m \u001B[43m        \u001B[49m\u001B[43mcolumns_type\u001B[49m\u001B[38;5;241;43m=\u001B[39;49m\u001B[43mConstants\u001B[49m\u001B[38;5;241;43m.\u001B[39;49m\u001B[43mSCHEMA_TYPE_CLEANED_TABLE\u001B[49m\n\u001B[1;32m      7\u001B[0m \u001B[43m    \u001B[49m\u001B[43m)\u001B[49m\n",
      "\u001B[0;31mTypeError\u001B[0m: PGGateway.pd_insert_sql() missing 1 required positional argument: 'table'"
     ]
    }
   ],
   "source": [
    "from app.source import DataProcess\n",
    "from app.utils import Constants\n",
    "for chunk in pd.read_sql('raw_data', con=con, chunksize=100):\n",
    "    PGGateway.pd_insert_sql(\n",
    "        table=\"cleaned_data\",\n",
    "        df=DataProcess.apply_cleaning(chunk),\n",
    "        columns_type=Constants.SCHEMA_TYPE_CLEANED_TABLE\n",
    "    )\n",
    "\n",
    "\n"
   ],
   "metadata": {
    "collapsed": false,
    "ExecuteTime": {
     "start_time": "2023-09-11T18:02:02.309912Z",
     "end_time": "2023-09-11T18:02:02.485858Z"
    }
   }
  },
  {
   "cell_type": "code",
   "execution_count": 4,
   "outputs": [
    {
     "data": {
      "text/plain": "datetime.date(2023, 1, 8)"
     },
     "execution_count": 4,
     "metadata": {},
     "output_type": "execute_result"
    }
   ],
   "source": [
    "chunk.date_of_birth .last_purchase[1]"
   ],
   "metadata": {
    "collapsed": false,
    "ExecuteTime": {
     "start_time": "2023-09-11T18:02:13.580783Z",
     "end_time": "2023-09-11T18:02:13.585792Z"
    }
   }
  },
  {
   "cell_type": "code",
   "execution_count": 9,
   "outputs": [
    {
     "data": {
      "text/plain": "pandas._libs.tslibs.timestamps.Timestamp"
     },
     "execution_count": 9,
     "metadata": {},
     "output_type": "execute_result"
    }
   ],
   "source": [
    "type(chunk.date_of_birth[0])"
   ],
   "metadata": {
    "collapsed": false,
    "ExecuteTime": {
     "start_time": "2023-09-11T18:08:33.872317Z",
     "end_time": "2023-09-11T18:08:33.887051Z"
    }
   }
  },
  {
   "cell_type": "code",
   "execution_count": 5,
   "outputs": [
    {
     "ename": "AttributeError",
     "evalue": "'str' object has no attribute 'date'",
     "output_type": "error",
     "traceback": [
      "\u001B[0;31m---------------------------------------------------------------------------\u001B[0m",
      "\u001B[0;31mAttributeError\u001B[0m                            Traceback (most recent call last)",
      "Cell \u001B[0;32mIn[5], line 2\u001B[0m\n\u001B[1;32m      1\u001B[0m \u001B[38;5;28;01mfrom\u001B[39;00m \u001B[38;5;21;01mapp\u001B[39;00m\u001B[38;5;21;01m.\u001B[39;00m\u001B[38;5;21;01msource\u001B[39;00m \u001B[38;5;28;01mimport\u001B[39;00m DateProcess\n\u001B[0;32m----> 2\u001B[0m \u001B[43mDateProcess\u001B[49m\u001B[38;5;241;43m.\u001B[39;49m\u001B[43mverify_past_date\u001B[49m\u001B[43m(\u001B[49m\u001B[38;5;124;43m'\u001B[39;49m\u001B[38;5;124;43masd\u001B[39;49m\u001B[38;5;124;43m'\u001B[39;49m\u001B[43m)\u001B[49m\n",
      "File \u001B[0;32m~/Proyectos/Personal Projects/Python/python_poo_pipeline/app/source/data_process.py:34\u001B[0m, in \u001B[0;36mverify_past_date\u001B[0;34m(input_date)\u001B[0m\n\u001B[1;32m     31\u001B[0m \u001B[38;5;28;01mclass\u001B[39;00m \u001B[38;5;21;01mDateProcess\u001B[39;00m:\n\u001B[1;32m     33\u001B[0m     \u001B[38;5;129m@staticmethod\u001B[39m\n\u001B[0;32m---> 34\u001B[0m     \u001B[38;5;28;01mdef\u001B[39;00m \u001B[38;5;21mverify_past_date\u001B[39m(input_date) \u001B[38;5;241m-\u001B[39m\u001B[38;5;241m>\u001B[39m datetime\u001B[38;5;241m.\u001B[39mdate \u001B[38;5;241m|\u001B[39m \u001B[38;5;28;01mNone\u001B[39;00m:\n\u001B[1;32m     35\u001B[0m         \u001B[38;5;28;01mtry\u001B[39;00m:\n\u001B[1;32m     36\u001B[0m             _date \u001B[38;5;241m=\u001B[39m input_date\u001B[38;5;241m.\u001B[39mdate()\n",
      "\u001B[0;31mAttributeError\u001B[0m: 'str' object has no attribute 'date'"
     ]
    }
   ],
   "source": [
    "from app.source import DateProcess\n",
    "DateProcess.verify_past_date('asd')"
   ],
   "metadata": {
    "collapsed": false
   }
  },
  {
   "cell_type": "code",
   "execution_count": 6,
   "outputs": [
    {
     "data": {
      "text/plain": "True"
     },
     "execution_count": 6,
     "metadata": {},
     "output_type": "execute_result"
    }
   ],
   "source": [
    "isinstance(chunk.date_of_birth[0], )"
   ],
   "metadata": {
    "collapsed": false,
    "ExecuteTime": {
     "start_time": "2023-09-11T18:06:33.867774Z",
     "end_time": "2023-09-11T18:06:33.873568Z"
    }
   }
  },
  {
   "cell_type": "code",
   "execution_count": 13,
   "outputs": [
    {
     "ename": "TypeError",
     "evalue": "expected string or bytes-like object",
     "output_type": "error",
     "traceback": [
      "\u001B[0;31m---------------------------------------------------------------------------\u001B[0m",
      "\u001B[0;31mTypeError\u001B[0m                                 Traceback (most recent call last)",
      "Cell \u001B[0;32mIn[13], line 2\u001B[0m\n\u001B[1;32m      1\u001B[0m \u001B[38;5;28;01mimport\u001B[39;00m \u001B[38;5;21;01mre\u001B[39;00m\n\u001B[0;32m----> 2\u001B[0m \u001B[43mre\u001B[49m\u001B[38;5;241;43m.\u001B[39;49m\u001B[43mmatch\u001B[49m\u001B[43m(\u001B[49m\u001B[38;5;124;43mr\u001B[39;49m\u001B[38;5;124;43m'\u001B[39;49m\u001B[38;5;124;43m^[\u001B[39;49m\u001B[38;5;124;43m\\\u001B[39;49m\u001B[38;5;124;43mw\u001B[39;49m\u001B[38;5;124;43m\\\u001B[39;49m\u001B[38;5;124;43m.-]+@[\u001B[39;49m\u001B[38;5;124;43m\\\u001B[39;49m\u001B[38;5;124;43mw\u001B[39;49m\u001B[38;5;124;43m\\\u001B[39;49m\u001B[38;5;124;43m.-]+\u001B[39;49m\u001B[38;5;124;43m\\\u001B[39;49m\u001B[38;5;124;43m.\u001B[39;49m\u001B[38;5;124;43m\\\u001B[39;49m\u001B[38;5;124;43mw+$\u001B[39;49m\u001B[38;5;124;43m'\u001B[39;49m\u001B[43m,\u001B[49m\u001B[43m \u001B[49m\u001B[38;5;28;43;01mNone\u001B[39;49;00m\u001B[43m)\u001B[49m\n",
      "File \u001B[0;32m/usr/local/Cellar/python@3.10/3.10.12_1/Frameworks/Python.framework/Versions/3.10/lib/python3.10/re.py:190\u001B[0m, in \u001B[0;36mmatch\u001B[0;34m(pattern, string, flags)\u001B[0m\n\u001B[1;32m    187\u001B[0m \u001B[38;5;28;01mdef\u001B[39;00m \u001B[38;5;21mmatch\u001B[39m(pattern, string, flags\u001B[38;5;241m=\u001B[39m\u001B[38;5;241m0\u001B[39m):\n\u001B[1;32m    188\u001B[0m \u001B[38;5;250m    \u001B[39m\u001B[38;5;124;03m\"\"\"Try to apply the pattern at the start of the string, returning\u001B[39;00m\n\u001B[1;32m    189\u001B[0m \u001B[38;5;124;03m    a Match object, or None if no match was found.\"\"\"\u001B[39;00m\n\u001B[0;32m--> 190\u001B[0m     \u001B[38;5;28;01mreturn\u001B[39;00m \u001B[43m_compile\u001B[49m\u001B[43m(\u001B[49m\u001B[43mpattern\u001B[49m\u001B[43m,\u001B[49m\u001B[43m \u001B[49m\u001B[43mflags\u001B[49m\u001B[43m)\u001B[49m\u001B[38;5;241;43m.\u001B[39;49m\u001B[43mmatch\u001B[49m\u001B[43m(\u001B[49m\u001B[43mstring\u001B[49m\u001B[43m)\u001B[49m\n",
      "\u001B[0;31mTypeError\u001B[0m: expected string or bytes-like object"
     ]
    }
   ],
   "source": [
    "import re\n",
    "re.match(r'^[\\w\\.-]+@[\\w\\.-]+\\.\\w+$', None)"
   ],
   "metadata": {
    "collapsed": false,
    "ExecuteTime": {
     "start_time": "2023-09-11T18:15:30.524681Z",
     "end_time": "2023-09-11T18:15:30.528961Z"
    }
   }
  },
  {
   "cell_type": "code",
   "execution_count": 14,
   "outputs": [],
   "source": [
    "def verify_email(_email: str) -> str | None:\n",
    "    if isinstance(_email, str):\n",
    "        if re.match(r'^[\\w\\.-]+@[\\w\\.-]+\\.\\w+$', _email):\n",
    "            return _email"
   ],
   "metadata": {
    "collapsed": false,
    "ExecuteTime": {
     "start_time": "2023-09-11T18:16:43.955719Z",
     "end_time": "2023-09-11T18:16:43.963256Z"
    }
   }
  },
  {
   "cell_type": "code",
   "execution_count": 19,
   "outputs": [
    {
     "data": {
      "text/plain": "'dasads@dasa.cl'"
     },
     "execution_count": 19,
     "metadata": {},
     "output_type": "execute_result"
    }
   ],
   "source": [
    "verify_email(\"dasads@dasa.cl\")"
   ],
   "metadata": {
    "collapsed": false,
    "ExecuteTime": {
     "start_time": "2023-09-11T18:17:30.033069Z",
     "end_time": "2023-09-11T18:17:30.039666Z"
    }
   }
  },
  {
   "cell_type": "code",
   "execution_count": null,
   "outputs": [],
   "source": [],
   "metadata": {
    "collapsed": false
   }
  }
 ],
 "metadata": {
  "kernelspec": {
   "display_name": "Python 3",
   "language": "python",
   "name": "python3"
  },
  "language_info": {
   "codemirror_mode": {
    "name": "ipython",
    "version": 2
   },
   "file_extension": ".py",
   "mimetype": "text/x-python",
   "name": "python",
   "nbconvert_exporter": "python",
   "pygments_lexer": "ipython2",
   "version": "2.7.6"
  }
 },
 "nbformat": 4,
 "nbformat_minor": 0
}
